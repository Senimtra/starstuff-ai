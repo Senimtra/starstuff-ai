{
 "cells": [
  {
   "cell_type": "markdown",
   "metadata": {},
   "source": [
    "# Podcasts"
   ]
  },
  {
   "cell_type": "markdown",
   "metadata": {},
   "source": [
    "#### Imports"
   ]
  },
  {
   "cell_type": "code",
   "execution_count": 1,
   "metadata": {},
   "outputs": [],
   "source": [
    "import queue\n",
    "\n",
    "import numpy as np\n",
    "import sounddevice as sd\n",
    "\n",
    "from openai import OpenAI"
   ]
  },
  {
   "cell_type": "markdown",
   "metadata": {},
   "source": [
    "#### Teaser Setup"
   ]
  },
  {
   "cell_type": "code",
   "execution_count": 2,
   "metadata": {},
   "outputs": [],
   "source": [
    "tool_response = {\n",
    "    \"topic\": \"Sun\", \"teaser\": \"Get ready to blast off on an adventure to the center of our solar system, where a giant ball of fire and energy called the Sun reigns supreme - find out why this star is so important for life on Earth and what makes it shine so bright! Tune in to discover the secrets of the Sun and unlock the mysteries of our universe!\", \"llm\": \"gpt-4o-mini\", \"queries\": [\"How hot is it on the sun?\"]\n",
    "}"
   ]
  },
  {
   "cell_type": "markdown",
   "metadata": {},
   "source": [
    "#### Text-to-Speech Full Response"
   ]
  },
  {
   "cell_type": "code",
   "execution_count": 3,
   "metadata": {},
   "outputs": [],
   "source": [
    "client = OpenAI()\n",
    "\n",
    "# Sampling rate and block size\n",
    "sample_rate = 24_000  # Matches OpenAI TTS sample rate\n",
    "block_size = 1024\n",
    "\n",
    "# Create streaming response from OpenAI API\n",
    "with client.audio.speech.with_streaming_response.create(\n",
    "        model = 'tts-1',\n",
    "        voice = 'ash',\n",
    "        input = tool_response['teaser'],\n",
    "        response_format = 'pcm'\n",
    ") as response:\n",
    "    # Create a generator that yields PCM audio chunks\n",
    "    def audio_generator():\n",
    "        for chunk in response.iter_bytes(block_size):\n",
    "            yield np.frombuffer(chunk, dtype = np.int16) / 32768.0  # Normalize PCM to -1.0 to 1.0\n",
    "\n",
    "    # Play audio using sounddevice\n",
    "    sd.play(np.concatenate(list(audio_generator())), samplerate = sample_rate)\n",
    "    sd.wait()  # Ensure playback completes before script exits"
   ]
  },
  {
   "cell_type": "markdown",
   "metadata": {},
   "source": [
    "#### Text-to-Speech Real-Time Streaming"
   ]
  },
  {
   "cell_type": "code",
   "execution_count": null,
   "metadata": {},
   "outputs": [],
   "source": [
    "### NOT YET IMPLEMENTED ###\n",
    "\n",
    "client = OpenAI()\n",
    "\n",
    "# Sampling rate\n",
    "sample_rate = 24_000  # Matches OpenAI TTS sample rate\n",
    "block_size = 1024\n",
    "\n",
    "# Create a queue to hold audio chunks\n",
    "audio_queue = queue.Queue()\n",
    "leftover_buffer = np.array([], dtype = np.float32)  # Buffer for leftover audio samples\n",
    "\n",
    "# Callback function to play streaming audio\n",
    "def callback(outdata, frames, time, status):\n",
    "    global leftover_buffer\n",
    "    \n",
    "    if status:\n",
    "        print(status)\n",
    "\n",
    "    # If buffer is empty, try getting more audio data\n",
    "    while len(leftover_buffer) < frames:\n",
    "        try:\n",
    "            new_chunk = audio_queue.get_nowait()\n",
    "            leftover_buffer = np.concatenate((leftover_buffer, new_chunk))\n",
    "        except queue.Empty:\n",
    "            break  # No more data available\n",
    "\n",
    "    # Fill the requested number of frames\n",
    "    if len(leftover_buffer) >= frames:\n",
    "        outdata[:] = leftover_buffer[:frames].reshape(-1, 1)\n",
    "        leftover_buffer = leftover_buffer[frames:]  # Remove used frames\n",
    "    else:\n",
    "        # If not enough data, pad with silence\n",
    "        outdata[:len(leftover_buffer)] = leftover_buffer.reshape(-1, 1)\n",
    "        outdata[len(leftover_buffer):] = 0\n",
    "        leftover_buffer = np.array([], dtype = np.float32)  # Reset buffer\n",
    "\n",
    "# Open a non-blocking output audio stream\n",
    "with sd.OutputStream(samplerate = sample_rate, channels = 1, dtype = 'float32', callback = callback):\n",
    "\n",
    "    # Create streaming response from OpenAI API\n",
    "    with client.audio.speech.with_streaming_response.create(\n",
    "            model = 'tts-1',\n",
    "            voice = 'ash',\n",
    "            input = tool_response['teaser'],\n",
    "            response_format = 'pcm'\n",
    "    ) as response:\n",
    "        \n",
    "        for chunk in response.iter_bytes(block_size):\n",
    "            # Convert PCM bytes to NumPy float32 array\n",
    "            audio_chunk = np.frombuffer(chunk, dtype = np.int16) / 32768.0\n",
    "            audio_queue.put(audio_chunk)\n",
    "\n",
    "        # Wait until all audio is played\n",
    "        audio_queue.join()"
   ]
  }
 ],
 "metadata": {
  "kernelspec": {
   "display_name": "Python 3",
   "language": "python",
   "name": "python3"
  },
  "language_info": {
   "codemirror_mode": {
    "name": "ipython",
    "version": 3
   },
   "file_extension": ".py",
   "mimetype": "text/x-python",
   "name": "python",
   "nbconvert_exporter": "python",
   "pygments_lexer": "ipython3",
   "version": "3.12.9"
  }
 },
 "nbformat": 4,
 "nbformat_minor": 2
}
